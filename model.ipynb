{
 "cells": [
  {
   "cell_type": "markdown",
   "metadata": {},
   "source": [
    "### Import Libraries"
   ]
  },
  {
   "cell_type": "code",
   "execution_count": 9,
   "metadata": {},
   "outputs": [],
   "source": [
    "import pandas as pd\n",
    "import matplotlib.pyplot as plt\n",
    "import numpy as np\n",
    "from io import StringIO\n",
    "import requests"
   ]
  },
  {
   "cell_type": "markdown",
   "metadata": {},
   "source": [
    "### Load the dataset"
   ]
  },
  {
   "cell_type": "code",
   "execution_count": 79,
   "metadata": {},
   "outputs": [],
   "source": [
    "# file_path = 'events.csv' \n",
    "# df = pd.read_csv(file_path)"
   ]
  },
  {
   "cell_type": "code",
   "execution_count": null,
   "metadata": {},
   "outputs": [],
   "source": [
    "# URL of the endpoint\n",
    "url = \"https://muaadh-nazly-production.up.railway.app/get_dataset/?format=csv\"\n",
    "\n",
    "try:\n",
    "    with requests.get(url, stream=True, timeout=600) as response:\n",
    "        response.raise_for_status() \n",
    "        \n",
    "        content = ''.join(chunk.decode('utf-8') for chunk in response.iter_content(chunk_size=1024 * 1024))  \n",
    "        df = pd.read_csv(StringIO(content))\n",
    "        \n",
    "    print(\"Dataset loaded successfully into a DataFrame.\")\n",
    "    print(df.head())  \n",
    "except requests.exceptions.RequestException as e:\n",
    "    print(f\"An error occurred: {e}\")\n"
   ]
  },
  {
   "cell_type": "code",
   "execution_count": 53,
   "metadata": {},
   "outputs": [
    {
     "data": {
      "text/plain": [
       "4642380"
      ]
     },
     "execution_count": 53,
     "metadata": {},
     "output_type": "execute_result"
    }
   ],
   "source": [
    "df.size"
   ]
  },
  {
   "cell_type": "code",
   "execution_count": 10,
   "metadata": {},
   "outputs": [
    {
     "name": "stdout",
     "output_type": "stream",
     "text": [
      "An error occurred: ('Connection broken: IncompleteRead(10748776 bytes read, 46625676 more expected)', IncompleteRead(10748776 bytes read, 46625676 more expected))\n"
     ]
    }
   ],
   "source": [
    "url = \"https://muaadh-nazly-production.up.railway.app/get_dataset/?format=csv\"\n",
    "\n",
    "try:\n",
    "    response = requests.get(url, stream=True, timeout=600)\n",
    "    response.raise_for_status()\n",
    "\n",
    "    for chunk in pd.read_csv(StringIO(response.text), chunksize=10000):\n",
    "        # Process each chunk (e.g., save to a database, perform analysis)\n",
    "        print(chunk.head())\n",
    "except requests.exceptions.RequestException as e:\n",
    "    print(f\"An error occurred: {e}\")\n"
   ]
  },
  {
   "cell_type": "markdown",
   "metadata": {},
   "source": [
    "### Preprocessing"
   ]
  },
  {
   "cell_type": "code",
   "execution_count": 80,
   "metadata": {},
   "outputs": [
    {
     "name": "stdout",
     "output_type": "stream",
     "text": [
      "user_id               0\n",
      "event_time            0\n",
      "event_type            0\n",
      "product_id            0\n",
      "category_id           0\n",
      "category_code    236219\n",
      "brand            212364\n",
      "price                 0\n",
      "dtype: int64\n"
     ]
    }
   ],
   "source": [
    "# columns_to_keep = ['user_id', 'event_time', 'event_type', 'product_id', 'category_id', 'category_code', 'brand','price']\n",
    "# df = df[columns_to_keep].copy()\n",
    "\n",
    "# null_counts = df.isnull().sum()\n",
    "# print(null_counts)"
   ]
  },
  {
   "cell_type": "code",
   "execution_count": 81,
   "metadata": {},
   "outputs": [],
   "source": [
    "# df_cleaned = df.dropna(subset=['category_code', 'category_id', 'brand'])\n",
    "# df = df_cleaned\n"
   ]
  },
  {
   "cell_type": "code",
   "execution_count": 82,
   "metadata": {},
   "outputs": [
    {
     "name": "stdout",
     "output_type": "stream",
     "text": [
      "user_id          0\n",
      "event_time       0\n",
      "event_type       0\n",
      "product_id       0\n",
      "category_id      0\n",
      "category_code    0\n",
      "brand            0\n",
      "price            0\n",
      "dtype: int64\n"
     ]
    }
   ],
   "source": [
    "# null_counts = df.isnull().sum()\n",
    "# print(null_counts)"
   ]
  },
  {
   "cell_type": "code",
   "execution_count": 83,
   "metadata": {},
   "outputs": [
    {
     "data": {
      "text/html": [
       "<div>\n",
       "<style scoped>\n",
       "    .dataframe tbody tr th:only-of-type {\n",
       "        vertical-align: middle;\n",
       "    }\n",
       "\n",
       "    .dataframe tbody tr th {\n",
       "        vertical-align: top;\n",
       "    }\n",
       "\n",
       "    .dataframe thead th {\n",
       "        text-align: right;\n",
       "    }\n",
       "</style>\n",
       "<table border=\"1\" class=\"dataframe\">\n",
       "  <thead>\n",
       "    <tr style=\"text-align: right;\">\n",
       "      <th></th>\n",
       "      <th>user_id</th>\n",
       "      <th>event_time</th>\n",
       "      <th>event_type</th>\n",
       "      <th>product_id</th>\n",
       "      <th>category_id</th>\n",
       "      <th>brand</th>\n",
       "      <th>price</th>\n",
       "      <th>category</th>\n",
       "      <th>product_name</th>\n",
       "    </tr>\n",
       "  </thead>\n",
       "  <tbody>\n",
       "    <tr>\n",
       "      <th>1</th>\n",
       "      <td>1515915625519380411</td>\n",
       "      <td>2020-09-24 11:57:26 UTC</td>\n",
       "      <td>view</td>\n",
       "      <td>139905</td>\n",
       "      <td>2144415926932472027</td>\n",
       "      <td>zalman</td>\n",
       "      <td>17.16</td>\n",
       "      <td>computers</td>\n",
       "      <td>cooler</td>\n",
       "    </tr>\n",
       "    <tr>\n",
       "      <th>3</th>\n",
       "      <td>1515915625519014356</td>\n",
       "      <td>2020-09-24 11:57:33 UTC</td>\n",
       "      <td>view</td>\n",
       "      <td>635807</td>\n",
       "      <td>2144415923107266682</td>\n",
       "      <td>pantum</td>\n",
       "      <td>113.81</td>\n",
       "      <td>computers</td>\n",
       "      <td>printer</td>\n",
       "    </tr>\n",
       "    <tr>\n",
       "      <th>5</th>\n",
       "      <td>1515915625519388062</td>\n",
       "      <td>2020-09-24 11:57:59 UTC</td>\n",
       "      <td>view</td>\n",
       "      <td>664325</td>\n",
       "      <td>2144415951611757447</td>\n",
       "      <td>carver</td>\n",
       "      <td>52.33</td>\n",
       "      <td>construction</td>\n",
       "      <td>saw</td>\n",
       "    </tr>\n",
       "    <tr>\n",
       "      <th>7</th>\n",
       "      <td>1515915625519388882</td>\n",
       "      <td>2020-09-24 11:58:24 UTC</td>\n",
       "      <td>view</td>\n",
       "      <td>716611</td>\n",
       "      <td>2144415923694469257</td>\n",
       "      <td>d-link</td>\n",
       "      <td>53.14</td>\n",
       "      <td>computers</td>\n",
       "      <td>router</td>\n",
       "    </tr>\n",
       "    <tr>\n",
       "      <th>9</th>\n",
       "      <td>1515915625519388929</td>\n",
       "      <td>2020-09-24 11:58:31 UTC</td>\n",
       "      <td>view</td>\n",
       "      <td>716611</td>\n",
       "      <td>2144415923694469257</td>\n",
       "      <td>d-link</td>\n",
       "      <td>53.14</td>\n",
       "      <td>computers</td>\n",
       "      <td>router</td>\n",
       "    </tr>\n",
       "    <tr>\n",
       "      <th>...</th>\n",
       "      <td>...</td>\n",
       "      <td>...</td>\n",
       "      <td>...</td>\n",
       "      <td>...</td>\n",
       "      <td>...</td>\n",
       "      <td>...</td>\n",
       "      <td>...</td>\n",
       "      <td>...</td>\n",
       "      <td>...</td>\n",
       "    </tr>\n",
       "    <tr>\n",
       "      <th>885121</th>\n",
       "      <td>1515915625572947504</td>\n",
       "      <td>2021-02-28 23:51:25 UTC</td>\n",
       "      <td>view</td>\n",
       "      <td>622796</td>\n",
       "      <td>2144415922738167921</td>\n",
       "      <td>asus</td>\n",
       "      <td>147.38</td>\n",
       "      <td>computers</td>\n",
       "      <td>cdrw</td>\n",
       "    </tr>\n",
       "    <tr>\n",
       "      <th>885122</th>\n",
       "      <td>1515915625611023581</td>\n",
       "      <td>2021-02-28 23:53:13 UTC</td>\n",
       "      <td>view</td>\n",
       "      <td>4079420</td>\n",
       "      <td>2144415922427789416</td>\n",
       "      <td>msi</td>\n",
       "      <td>449.51</td>\n",
       "      <td>computers</td>\n",
       "      <td>videocards</td>\n",
       "    </tr>\n",
       "    <tr>\n",
       "      <th>885125</th>\n",
       "      <td>1515915625611024014</td>\n",
       "      <td>2021-02-28 23:58:05 UTC</td>\n",
       "      <td>view</td>\n",
       "      <td>1715907</td>\n",
       "      <td>2144415927049912542</td>\n",
       "      <td>starwind</td>\n",
       "      <td>80.03</td>\n",
       "      <td>electronics</td>\n",
       "      <td>tv</td>\n",
       "    </tr>\n",
       "    <tr>\n",
       "      <th>885126</th>\n",
       "      <td>1515915625611024020</td>\n",
       "      <td>2021-02-28 23:58:09 UTC</td>\n",
       "      <td>view</td>\n",
       "      <td>4170534</td>\n",
       "      <td>2144415939364389423</td>\n",
       "      <td>amazfit</td>\n",
       "      <td>64.92</td>\n",
       "      <td>electronics</td>\n",
       "      <td>clocks</td>\n",
       "    </tr>\n",
       "    <tr>\n",
       "      <th>885128</th>\n",
       "      <td>1515915625556087775</td>\n",
       "      <td>2021-02-28 23:59:09 UTC</td>\n",
       "      <td>view</td>\n",
       "      <td>743182</td>\n",
       "      <td>2144415935631458761</td>\n",
       "      <td>kada</td>\n",
       "      <td>65.08</td>\n",
       "      <td>construction</td>\n",
       "      <td>soldering</td>\n",
       "    </tr>\n",
       "  </tbody>\n",
       "</table>\n",
       "<p>516349 rows × 9 columns</p>\n",
       "</div>"
      ],
      "text/plain": [
       "                    user_id               event_time event_type  product_id  \\\n",
       "1       1515915625519380411  2020-09-24 11:57:26 UTC       view      139905   \n",
       "3       1515915625519014356  2020-09-24 11:57:33 UTC       view      635807   \n",
       "5       1515915625519388062  2020-09-24 11:57:59 UTC       view      664325   \n",
       "7       1515915625519388882  2020-09-24 11:58:24 UTC       view      716611   \n",
       "9       1515915625519388929  2020-09-24 11:58:31 UTC       view      716611   \n",
       "...                     ...                      ...        ...         ...   \n",
       "885121  1515915625572947504  2021-02-28 23:51:25 UTC       view      622796   \n",
       "885122  1515915625611023581  2021-02-28 23:53:13 UTC       view     4079420   \n",
       "885125  1515915625611024014  2021-02-28 23:58:05 UTC       view     1715907   \n",
       "885126  1515915625611024020  2021-02-28 23:58:09 UTC       view     4170534   \n",
       "885128  1515915625556087775  2021-02-28 23:59:09 UTC       view      743182   \n",
       "\n",
       "                category_id     brand   price      category product_name  \n",
       "1       2144415926932472027    zalman   17.16     computers       cooler  \n",
       "3       2144415923107266682    pantum  113.81     computers      printer  \n",
       "5       2144415951611757447    carver   52.33  construction          saw  \n",
       "7       2144415923694469257    d-link   53.14     computers       router  \n",
       "9       2144415923694469257    d-link   53.14     computers       router  \n",
       "...                     ...       ...     ...           ...          ...  \n",
       "885121  2144415922738167921      asus  147.38     computers         cdrw  \n",
       "885122  2144415922427789416       msi  449.51     computers   videocards  \n",
       "885125  2144415927049912542  starwind   80.03   electronics           tv  \n",
       "885126  2144415939364389423   amazfit   64.92   electronics       clocks  \n",
       "885128  2144415935631458761      kada   65.08  construction    soldering  \n",
       "\n",
       "[516349 rows x 9 columns]"
      ]
     },
     "execution_count": 83,
     "metadata": {},
     "output_type": "execute_result"
    }
   ],
   "source": [
    "# split_category = df['category_code'].str.split('.')\n",
    "# df['category'] = split_category.str[0]\n",
    "# df['product_name'] = split_category.str[-1]\n",
    "\n",
    "# df = df.drop(columns='category_code')\n",
    "\n",
    "# df"
   ]
  },
  {
   "cell_type": "code",
   "execution_count": 84,
   "metadata": {},
   "outputs": [
    {
     "name": "stdout",
     "output_type": "stream",
     "text": [
      "Number of duplicate rows: 529\n",
      "Duplicates removed\n"
     ]
    }
   ],
   "source": [
    "# duplicates = df.duplicated().sum()\n",
    "# print(f\"Number of duplicate rows: {duplicates}\")\n",
    "# df.drop_duplicates(inplace=True)\n",
    "# print('Duplicates removed')\n",
    "\n",
    "# df['event_time'] = pd.to_datetime(df['event_time'], format='%Y-%m-%d %H:%M:%S %Z', utc=True)"
   ]
  },
  {
   "cell_type": "code",
   "execution_count": 85,
   "metadata": {},
   "outputs": [],
   "source": [
    "\n",
    "# numeric_columns = ['user_id', 'product_id', 'category_id']\n",
    "# df[numeric_columns] = df[numeric_columns].apply(pd.to_numeric, errors='coerce')\n",
    "\n",
    "# categorical_columns = ['brand', 'category', 'product_name' ]\n",
    "# df[categorical_columns] = df[categorical_columns].astype(str)\n",
    "# df['price'] = df['price'].astype(float)\n",
    "# df.to_csv('processed_data.csv', index=False)"
   ]
  },
  {
   "cell_type": "code",
   "execution_count": 55,
   "metadata": {},
   "outputs": [
    {
     "data": {
      "text/html": [
       "<div>\n",
       "<style scoped>\n",
       "    .dataframe tbody tr th:only-of-type {\n",
       "        vertical-align: middle;\n",
       "    }\n",
       "\n",
       "    .dataframe tbody tr th {\n",
       "        vertical-align: top;\n",
       "    }\n",
       "\n",
       "    .dataframe thead th {\n",
       "        text-align: right;\n",
       "    }\n",
       "</style>\n",
       "<table border=\"1\" class=\"dataframe\">\n",
       "  <thead>\n",
       "    <tr style=\"text-align: right;\">\n",
       "      <th></th>\n",
       "      <th>user_id</th>\n",
       "      <th>product_id</th>\n",
       "      <th>category_id</th>\n",
       "      <th>price</th>\n",
       "    </tr>\n",
       "  </thead>\n",
       "  <tbody>\n",
       "    <tr>\n",
       "      <th>count</th>\n",
       "      <td>5.158200e+05</td>\n",
       "      <td>5.158200e+05</td>\n",
       "      <td>5.158200e+05</td>\n",
       "      <td>515820.000000</td>\n",
       "    </tr>\n",
       "    <tr>\n",
       "      <th>mean</th>\n",
       "      <td>1.515916e+18</td>\n",
       "      <td>2.166315e+06</td>\n",
       "      <td>2.144416e+18</td>\n",
       "      <td>188.937587</td>\n",
       "    </tr>\n",
       "    <tr>\n",
       "      <th>std</th>\n",
       "      <td>3.565802e+07</td>\n",
       "      <td>1.497703e+06</td>\n",
       "      <td>2.020155e+14</td>\n",
       "      <td>347.623306</td>\n",
       "    </tr>\n",
       "    <tr>\n",
       "      <th>min</th>\n",
       "      <td>1.515916e+18</td>\n",
       "      <td>8.540000e+02</td>\n",
       "      <td>2.144416e+18</td>\n",
       "      <td>0.900000</td>\n",
       "    </tr>\n",
       "    <tr>\n",
       "      <th>25%</th>\n",
       "      <td>1.515916e+18</td>\n",
       "      <td>8.555400e+05</td>\n",
       "      <td>2.144416e+18</td>\n",
       "      <td>45.240000</td>\n",
       "    </tr>\n",
       "    <tr>\n",
       "      <th>50%</th>\n",
       "      <td>1.515916e+18</td>\n",
       "      <td>1.682541e+06</td>\n",
       "      <td>2.144416e+18</td>\n",
       "      <td>105.870000</td>\n",
       "    </tr>\n",
       "    <tr>\n",
       "      <th>75%</th>\n",
       "      <td>1.515916e+18</td>\n",
       "      <td>3.828335e+06</td>\n",
       "      <td>2.144416e+18</td>\n",
       "      <td>249.380000</td>\n",
       "    </tr>\n",
       "    <tr>\n",
       "      <th>max</th>\n",
       "      <td>1.515916e+18</td>\n",
       "      <td>4.183866e+06</td>\n",
       "      <td>2.227847e+18</td>\n",
       "      <td>64771.060000</td>\n",
       "    </tr>\n",
       "  </tbody>\n",
       "</table>\n",
       "</div>"
      ],
      "text/plain": [
       "            user_id    product_id   category_id          price\n",
       "count  5.158200e+05  5.158200e+05  5.158200e+05  515820.000000\n",
       "mean   1.515916e+18  2.166315e+06  2.144416e+18     188.937587\n",
       "std    3.565802e+07  1.497703e+06  2.020155e+14     347.623306\n",
       "min    1.515916e+18  8.540000e+02  2.144416e+18       0.900000\n",
       "25%    1.515916e+18  8.555400e+05  2.144416e+18      45.240000\n",
       "50%    1.515916e+18  1.682541e+06  2.144416e+18     105.870000\n",
       "75%    1.515916e+18  3.828335e+06  2.144416e+18     249.380000\n",
       "max    1.515916e+18  4.183866e+06  2.227847e+18   64771.060000"
      ]
     },
     "execution_count": 55,
     "metadata": {},
     "output_type": "execute_result"
    }
   ],
   "source": [
    "df.describe()"
   ]
  },
  {
   "cell_type": "code",
   "execution_count": 22,
   "metadata": {},
   "outputs": [],
   "source": [
    "from sklearn.preprocessing import StandardScaler\n",
    "from sklearn.cluster import KMeans\n",
    "\n",
    "def cluster_users(df, n_clusters=5):\n",
    "    \"\"\"\n",
    "    Perform clustering on users based on their interaction behavior.\n",
    "    Args:\n",
    "        df (pd.DataFrame): The input dataset containing user interactions.\n",
    "        n_clusters (int): Number of clusters for the KMeans model.\n",
    "    Returns:\n",
    "        pd.DataFrame: A DataFrame with user_id and their assigned cluster.\n",
    "    \"\"\"\n",
    "    # Aggregate data at the user level\n",
    "    user_features = df.groupby('user_id').agg({\n",
    "        'price': ['mean', 'sum'],  \n",
    "        'product_id': 'nunique',  \n",
    "        'event_type': lambda x: (x == 'purchase').sum(),  \n",
    "        'brand': 'nunique',  \n",
    "        'category': lambda x: x.mode()[0] \n",
    "    }).reset_index()\n",
    "    \n",
    "    # Rename columns\n",
    "    user_features.columns = ['user_id', 'avg_price', 'total_spent', 'unique_products', 'num_purchases', 'unique_brands', 'favorite_category']\n",
    "    \n",
    "    # One-hot encode 'favorite_category'\n",
    "    user_features = pd.get_dummies(user_features, columns=['favorite_category'], drop_first=True)\n",
    "    \n",
    "    # Scale numerical features\n",
    "    scaler = StandardScaler()\n",
    "    scaled_features = scaler.fit_transform(user_features.drop('user_id', axis=1))\n",
    "    \n",
    "    # Apply KMeans clustering\n",
    "    kmeans = KMeans(n_clusters=n_clusters, random_state=42)\n",
    "    user_features['cluster'] = kmeans.fit_predict(scaled_features)\n",
    "    \n",
    "    # Return user features with cluster assignments\n",
    "    return user_features[['user_id', 'cluster']], scaled_features\n"
   ]
  },
  {
   "cell_type": "code",
   "execution_count": 23,
   "metadata": {},
   "outputs": [
    {
     "name": "stdout",
     "output_type": "stream",
     "text": [
      "               user_id  cluster\n",
      "0  1515915625353226922        3\n",
      "1  1515915625353230683        3\n",
      "2  1515915625353230922        1\n",
      "3  1515915625353234047        3\n",
      "4  1515915625353236157        3\n"
     ]
    }
   ],
   "source": [
    "# Perform clustering\n",
    "user_clusters, scaled_features = cluster_users(df, n_clusters=5)\n",
    "\n",
    "# Save the results\n",
    "user_clusters.to_csv('user_clusters.csv', index=False)\n",
    "\n",
    "print(user_clusters.head())"
   ]
  },
  {
   "cell_type": "code",
   "execution_count": null,
   "metadata": {},
   "outputs": [],
   "source": [
    "import schedule\n",
    "import time\n",
    "import pandas as pd\n",
    "\n",
    "def perform_clustering():\n",
    "\n",
    "    # Call your clustering function\n",
    "    user_clusters, _ = cluster_users(df, n_clusters=5)\n",
    "    \n",
    "    # Save the results to a file\n",
    "    user_clusters.to_csv('user_clusters.csv', index=False)\n",
    "    print(\"Clustering completed and saved at:\", time.strftime(\"%Y-%m-%d %H:%M:%S\"))\n",
    "\n",
    "# Schedule the task to run every X hours\n",
    "X = 4  # Replace X with the desired interval in hours\n",
    "schedule.every(X).minutes.do(perform_clustering)\n",
    "\n",
    "# Keep the script running to execute the scheduled task\n",
    "print(f\"Starting the scheduler to run clustering every {X} hours...\")\n",
    "while True:\n",
    "    schedule.run_pending()\n",
    "    time.sleep(1)\n"
   ]
  },
  {
   "cell_type": "code",
   "execution_count": null,
   "metadata": {},
   "outputs": [],
   "source": [
    "import schedule\n",
    "import time\n",
    "import requests\n",
    "import pandas as pd\n",
    "from io import StringIO\n",
    "from sklearn.preprocessing import StandardScaler\n",
    "from sklearn.cluster import KMeans\n",
    "\n",
    "# URL of the dataset endpoint\n",
    "url = \"https://muaadh-nazly-production.up.railway.app/get_dataset/?format=csv\"\n",
    "\n",
    "def fetch_dataset_from_url():\n",
    "    \"\"\"\n",
    "    Fetches the dataset from the given URL and loads it into a pandas DataFrame.\n",
    "    Returns:\n",
    "        pd.DataFrame: The dataset as a DataFrame.\n",
    "    \"\"\"\n",
    "    print(\"Starting dataset download...\")\n",
    "    try:\n",
    "        with requests.get(url, stream=True, timeout=600) as response:\n",
    "            response.raise_for_status()\n",
    "            \n",
    "            # Progress feedback\n",
    "            total_size = int(response.headers.get('Content-Length', 0))\n",
    "            downloaded = 0\n",
    "            content = []\n",
    "            last_printed_progress = 0\n",
    "\n",
    "            # Stream and accumulate data with progress tracking\n",
    "            for chunk in response.iter_content(chunk_size=1024 * 1024):  # 1 MB chunks\n",
    "                downloaded += len(chunk)\n",
    "                content.append(chunk)\n",
    "                progress = (downloaded / total_size) * 100 if total_size > 0 else 0\n",
    "                # Print progress only if it surpasses the next multiple of 10\n",
    "                if int(progress) // 10 > last_printed_progress // 10:\n",
    "                    print(f\"Download progress: {int(progress)}%\")\n",
    "                    last_printed_progress = int(progress)\n",
    "            \n",
    "            # Decode and load into a DataFrame\n",
    "            content = b''.join(content).decode('utf-8')\n",
    "            df = pd.read_csv(StringIO(content))\n",
    "        \n",
    "        print(\"Dataset successfully downloaded and loaded into a DataFrame.\")\n",
    "        return df\n",
    "    except requests.exceptions.RequestException as e:\n",
    "        print(f\"An error occurred while fetching the dataset: {e}\")\n",
    "        return None\n",
    "\n",
    "def cluster_users(df, n_clusters=5):\n",
    "    \"\"\"\n",
    "    Perform clustering on users based on their interaction behavior.\n",
    "    Args:\n",
    "        df (pd.DataFrame): The input dataset containing user interactions.\n",
    "        n_clusters (int): Number of clusters for the KMeans model.\n",
    "    Returns:\n",
    "        pd.DataFrame: A DataFrame with user_id and their assigned cluster.\n",
    "    \"\"\"\n",
    "    print(\"Starting clustering process...\")\n",
    "    # Aggregate data at the user level\n",
    "    user_features = df.groupby('user_id').agg({\n",
    "        'price': ['mean', 'sum'],  \n",
    "        'product_id': 'nunique',  \n",
    "        'event_type': lambda x: (x == 'purchase').sum(),  \n",
    "        'brand': 'nunique',  \n",
    "        'category': lambda x: x.mode()[0] \n",
    "    }).reset_index()\n",
    "    print(\"Data aggregated by user.\")\n",
    "    \n",
    "    # Rename columns\n",
    "    user_features.columns = ['user_id', 'avg_price', 'total_spent', 'unique_products', 'num_purchases', 'unique_brands', 'favorite_category']\n",
    "    print(\"Columns renamed for clarity.\")\n",
    "\n",
    "    # One-hot encode 'favorite_category'\n",
    "    user_features = pd.get_dummies(user_features, columns=['favorite_category'], drop_first=True)\n",
    "    print(\"One-hot encoding completed for 'favorite_category'.\")\n",
    "\n",
    "    # Scale numerical features\n",
    "    scaler = StandardScaler()\n",
    "    scaled_features = scaler.fit_transform(user_features.drop('user_id', axis=1))\n",
    "    print(\"Numerical features scaled.\")\n",
    "\n",
    "    # Apply KMeans clustering\n",
    "    kmeans = KMeans(n_clusters=n_clusters, random_state=42)\n",
    "    user_features['cluster'] = kmeans.fit_predict(scaled_features)\n",
    "    print(f\"Clustering completed with {n_clusters} clusters.\")\n",
    "\n",
    "    return user_features[['user_id', 'cluster']]\n",
    "\n",
    "def perform_clustering():\n",
    "    \"\"\"\n",
    "    Fetches the dataset, performs clustering, and saves the results to a CSV file.\n",
    "    \"\"\"\n",
    "    print(f\"Clustering process started at: {time.strftime('%Y-%m-%d %H:%M:%S')}\")\n",
    "    df = fetch_dataset_from_url()  # Fetch the dataset\n",
    "    if df is not None:  # Proceed only if the dataset was successfully fetched\n",
    "        print(\"Performing clustering on the dataset...\")\n",
    "        user_clusters = cluster_users(df, n_clusters=5)  # Perform clustering\n",
    "        output_file = f'user_clusters_{time.strftime(\"%Y-%m-%d_%H-%M-%S\")}.csv'\n",
    "        user_clusters.to_csv(output_file, index=False)  # Save the results\n",
    "        print(f\"Clustering completed and results saved to {output_file}.\")\n",
    "    else:\n",
    "        print(\"Skipping clustering as the dataset could not be loaded.\")\n",
    "\n",
    "# Schedule the task to run every X minutes\n",
    "X = 15  \n",
    "schedule.every(X).minutes.do(perform_clustering)\n",
    "\n",
    "# Keep the script running to execute the scheduled task\n",
    "print(f\"Starting the scheduler to run clustering every {X} minutes...\")\n",
    "while True:\n",
    "    schedule.run_pending()\n",
    "    time.sleep(1)"
   ]
  },
  {
   "cell_type": "code",
   "execution_count": 24,
   "metadata": {},
   "outputs": [
    {
     "data": {
      "image/png": "[encoded data removed]",
      "text/plain": [
       "<Figure size 640x480 with 1 Axes>"
      ]
     },
     "metadata": {},
     "output_type": "display_data"
    }
   ],
   "source": [
    "inertia = []\n",
    "for k in range(2, 10):\n",
    "    kmeans = KMeans(n_clusters=k, random_state=42)\n",
    "    kmeans.fit(scaled_features)\n",
    "    inertia.append(kmeans.inertia_)\n",
    "\n",
    "plt.plot(range(2, 10), inertia, marker='o')\n",
    "plt.xlabel('Number of Clusters')\n",
    "plt.ylabel('Inertia')\n",
    "plt.title('Elbow Method for Optimal Clusters')\n",
    "plt.show()"
   ]
  },
  {
   "cell_type": "code",
   "execution_count": 25,
   "metadata": {},
   "outputs": [
    {
     "name": "stdout",
     "output_type": "stream",
     "text": [
      "Silhouette Score: 0.4857831683014256\n"
     ]
    }
   ],
   "source": [
    "from sklearn.metrics import silhouette_score\n",
    "\n",
    "kmeans = KMeans(n_clusters=5, random_state=42)\n",
    "kmeans.fit(scaled_features)\n",
    "score = silhouette_score(scaled_features, kmeans.labels_)\n",
    "print(f'Silhouette Score: {score}')\n"
   ]
  },
  {
   "cell_type": "code",
   "execution_count": 29,
   "metadata": {},
   "outputs": [
    {
     "name": "stdout",
     "output_type": "stream",
     "text": [
      "cluster\n",
      "1    117071\n",
      "3     65541\n",
      "0     18470\n",
      "2     14301\n",
      "4      9613\n",
      "Name: count, dtype: int64\n"
     ]
    }
   ],
   "source": [
    "cluster_counts = user_clusters['cluster'].value_counts()\n",
    "print(cluster_counts)"
   ]
  },
  {
   "cell_type": "code",
   "execution_count": 86,
   "metadata": {},
   "outputs": [
    {
     "name": "stdout",
     "output_type": "stream",
     "text": [
      "User Profiles:\n",
      "               user_id  unique_categories  unique_brands   avg_price  \\\n",
      "0  1515915625353226922                  1              1   76.480000   \n",
      "1  1515915625353230683                  2              9   62.686923   \n",
      "2  1515915625353230922                  1              1  274.400000   \n",
      "3  1515915625353234047                  1              7  156.220286   \n",
      "4  1515915625353236157                  1              1   52.490000   \n",
      "\n",
      "   max_price top_category top_brand  \n",
      "0      76.48  electronics     honor  \n",
      "1     339.79  electronics  creative  \n",
      "2     274.40    computers       msi  \n",
      "3     240.98  electronics   samsung  \n",
      "4      52.49  electronics    ritmix  \n"
     ]
    }
   ],
   "source": [
    "# User Profiles: Aggregate user-specific features\n",
    "user_profiles = df.groupby('user_id').agg({\n",
    "    'category': 'nunique',  \n",
    "    'brand': 'nunique',  \n",
    "    'price': ['mean', 'max'],  \n",
    "}).reset_index()\n",
    "\n",
    "# Flatten the multi-level columns\n",
    "user_profiles.columns = ['user_id', 'unique_categories', 'unique_brands', 'avg_price', 'max_price']\n",
    "\n",
    "# Add the most frequent category and brand\n",
    "user_profiles['top_category'] = df.groupby('user_id')['category'].agg(lambda x: x.mode().iloc[0]).values\n",
    "user_profiles['top_brand'] = df.groupby('user_id')['brand'].agg(lambda x: x.mode().iloc[0]).values\n",
    "\n",
    "print(\"User Profiles:\")\n",
    "print(user_profiles.head())\n"
   ]
  },
  {
   "cell_type": "code",
   "execution_count": 87,
   "metadata": {},
   "outputs": [
    {
     "name": "stdout",
     "output_type": "stream",
     "text": [
      "User Interactions:\n",
      "               user_id  cart_count  purchase_count  view_count  \\\n",
      "0  1515915625353226922           0               0           1   \n",
      "1  1515915625353230683           0               0          13   \n",
      "2  1515915625353230922           0               0           1   \n",
      "3  1515915625353234047           0               0          35   \n",
      "4  1515915625353236157           0               0           1   \n",
      "\n",
      "   total_interactions  purchase_ratio  total_spent  avg_spent  \\\n",
      "0                   1             0.0          0.0        0.0   \n",
      "1                  13             0.0          0.0        0.0   \n",
      "2                   1             0.0          0.0        0.0   \n",
      "3                  35             0.0          0.0        0.0   \n",
      "4                   1             0.0          0.0        0.0   \n",
      "\n",
      "   products_purchased  \n",
      "0                 0.0  \n",
      "1                 0.0  \n",
      "2                 0.0  \n",
      "3                 0.0  \n",
      "4                 0.0  \n"
     ]
    }
   ],
   "source": [
    "# Calculate interaction statistics for each user\n",
    "user_interactions = df.groupby(['user_id', 'event_type']).size().unstack(fill_value=0).reset_index()\n",
    "\n",
    "user_interactions.rename(columns={\n",
    "    'view': 'view_count',\n",
    "    'purchase': 'purchase_count',\n",
    "    'cart': 'cart_count'\n",
    "}, inplace=True)\n",
    "\n",
    "# Add total interactions and purchase ratio\n",
    "user_interactions['total_interactions'] = user_interactions[['view_count', 'purchase_count', 'cart_count']].sum(axis=1)\n",
    "user_interactions['purchase_ratio'] = user_interactions['purchase_count'] / (user_interactions['view_count'] + 1e-9)\n",
    "\n",
    "# Calculate monetary features for purchases\n",
    "purchase_data = df[df['event_type'] == 'purchase'].groupby('user_id').agg({\n",
    "    'price': ['sum', 'mean'],  \n",
    "    'product_id': 'count' \n",
    "}).reset_index()\n",
    "\n",
    "purchase_data.columns = ['user_id', 'total_spent', 'avg_spent', 'products_purchased']\n",
    "\n",
    "# Merge interactions and purchase data\n",
    "user_interactions = pd.merge(user_interactions, purchase_data, on='user_id', how='left').fillna(0)\n",
    "\n",
    "print(\"User Interactions:\")\n",
    "print(user_interactions.head())\n"
   ]
  },
  {
   "cell_type": "code",
   "execution_count": 88,
   "metadata": {},
   "outputs": [
    {
     "name": "stdout",
     "output_type": "stream",
     "text": [
      "Combined User Data:\n",
      "               user_id  unique_categories  unique_brands  avg_price  \\\n",
      "0  1515915625353226922                  1              1      76.48   \n",
      "1  1515915625353230683                  2              9      62.69   \n",
      "2  1515915625353230922                  1              1     274.40   \n",
      "3  1515915625353234047                  1              7     156.22   \n",
      "4  1515915625353236157                  1              1      52.49   \n",
      "\n",
      "   max_price top_category top_brand  cart_count  purchase_count  view_count  \\\n",
      "0      76.48  electronics     honor           0               0           1   \n",
      "1     339.79  electronics  creative           0               0          13   \n",
      "2     274.40    computers       msi           0               0           1   \n",
      "3     240.98  electronics   samsung           0               0          35   \n",
      "4      52.49  electronics    ritmix           0               0           1   \n",
      "\n",
      "   total_interactions  purchase_ratio  total_spent  avg_spent  \\\n",
      "0                   1             0.0          0.0        0.0   \n",
      "1                  13             0.0          0.0        0.0   \n",
      "2                   1             0.0          0.0        0.0   \n",
      "3                  35             0.0          0.0        0.0   \n",
      "4                   1             0.0          0.0        0.0   \n",
      "\n",
      "   products_purchased  \n",
      "0                 0.0  \n",
      "1                 0.0  \n",
      "2                 0.0  \n",
      "3                 0.0  \n",
      "4                 0.0  \n"
     ]
    }
   ],
   "source": [
    "# Combine user profiles and user interactions\n",
    "user_data = pd.merge(user_profiles, user_interactions, on='user_id')\n",
    "\n",
    "user_data[['avg_price', 'purchase_ratio', 'total_spent', 'avg_spent']] = user_data[\n",
    "    ['avg_price', 'purchase_ratio', 'total_spent', 'avg_spent']\n",
    "].round(2)\n",
    "\n",
    "user_data.to_csv('processed_user_data.csv', index=False)\n",
    "\n",
    "print(\"Combined User Data:\")\n",
    "print(user_data.head())\n"
   ]
  },
  {
   "cell_type": "code",
   "execution_count": 89,
   "metadata": {},
   "outputs": [
    {
     "name": "stdout",
     "output_type": "stream",
     "text": [
      "Product Profiles:\n",
      "    brand   category  product_name  avg_price  min_price  max_price  \\\n",
      "0  accord  computers  power_supply     106.58      20.52     111.17   \n",
      "1    acer  computers        cooler      10.71      10.00      10.95   \n",
      "2    acer  computers       desktop      70.79      70.79      70.79   \n",
      "3    acer  computers       monitor     302.87      74.06    4135.21   \n",
      "4    acer  computers         mouse      93.67      81.75      96.32   \n",
      "\n",
      "   price_std  product_count  \n",
      "0       8.01            474  \n",
      "1       0.47              4  \n",
      "2       0.00              2  \n",
      "3     323.51            442  \n",
      "4       5.71             33  \n"
     ]
    }
   ],
   "source": [
    "# Product Profiles: Aggregate product-level data\n",
    "product_profiles = df.groupby(['brand', 'category', 'product_name']).agg({\n",
    "    'price': ['mean', 'min', 'max', 'std', 'count']  # Aggregate price stats\n",
    "}).reset_index()\n",
    "\n",
    "# Flatten the multi-level columns\n",
    "product_profiles.columns = [' '.join(col).strip() for col in product_profiles.columns.values]\n",
    "\n",
    "product_profiles.rename(columns={\n",
    "    'price mean': 'avg_price',\n",
    "    'price min': 'min_price',\n",
    "    'price max': 'max_price',\n",
    "    'price std': 'price_std',\n",
    "    'price count': 'product_count'\n",
    "}, inplace=True)\n",
    "\n",
    "product_profiles[['avg_price', 'price_std']] = product_profiles[['avg_price', 'price_std']].round(2)\n",
    "product_profiles.to_csv('processed_product_profiles.csv', index=False)\n",
    "\n",
    "print(\"Product Profiles:\")\n",
    "print(product_profiles.head())\n"
   ]
  },
  {
   "cell_type": "code",
   "execution_count": 90,
   "metadata": {},
   "outputs": [
    {
     "name": "stdout",
     "output_type": "stream",
     "text": [
      "Total Categories: 14\n",
      "Unique Categories:\n",
      "computers\n",
      "construction\n",
      "electronics\n",
      "auto\n",
      "appliances\n",
      "stationery\n",
      "kids\n",
      "accessories\n",
      "country_yard\n",
      "apparel\n",
      "medicine\n",
      "furniture\n",
      "sport\n",
      "jewelry\n"
     ]
    }
   ],
   "source": [
    "# Analyze unique categories\n",
    "category_count = df['category'].nunique()\n",
    "unique_categories = df['category'].unique()\n",
    "\n",
    "print(f\"Total Categories: {category_count}\")\n",
    "print(\"Unique Categories:\")\n",
    "for category in unique_categories:\n",
    "    print(category)\n"
   ]
  },
  {
   "cell_type": "code",
   "execution_count": 91,
   "metadata": {},
   "outputs": [],
   "source": [
    "from surprise import Reader, Dataset, SVD, accuracy\n",
    "from surprise.model_selection import train_test_split\n",
    "\n",
    "# Map event types to numerical ratings\n",
    "event_type_mapping = {\n",
    "    'view': 1,   \n",
    "    'cart': 2,   \n",
    "    'purchase': 3 \n",
    "}\n",
    "\n",
    "# Create a new column with numerical ratings\n",
    "df['event_type_rating'] = df['event_type'].map(event_type_mapping)\n"
   ]
  },
  {
   "cell_type": "code",
   "execution_count": 92,
   "metadata": {},
   "outputs": [
    {
     "name": "stdout",
     "output_type": "stream",
     "text": [
      "RMSE: 0.4555\n",
      "MAE:  0.1789\n",
      "RMSE: 0.45545048650104064\n",
      "MAE: 0.17893209489635142\n"
     ]
    }
   ],
   "source": [
    "# Load the preprocessed data into a Surprise dataset\n",
    "reader = Reader(rating_scale=(1, 3))  \n",
    "data = Dataset.load_from_df(df[['user_id', 'product_name', 'event_type_rating']], reader)\n",
    "\n",
    "trainset, testset = train_test_split(data, test_size=0.2, random_state=42)\n",
    "model = SVD()\n",
    "\n",
    "model.fit(trainset)\n",
    "\n",
    "predictions = model.test(testset)\n",
    "\n",
    "rmse = accuracy.rmse(predictions)\n",
    "mae = accuracy.mae(predictions)\n",
    "\n",
    "print(f'RMSE: {rmse}') \n",
    "print(f'MAE: {mae}') "
   ]
  },
  {
   "cell_type": "code",
   "execution_count": 93,
   "metadata": {},
   "outputs": [
    {
     "name": "stdout",
     "output_type": "stream",
     "text": [
      "Collaborative Filtering Recommendations for User 1515915625513574486:\n",
      "Product Name: steam_cleaner, Estimated Rating: 1.4697134286637399\n",
      "Product Name: video, Estimated Rating: 1.4094942259798564\n",
      "Product Name: generator, Estimated Rating: 1.3997105367883744\n",
      "Product Name: window, Estimated Rating: 1.3974982244809075\n",
      "Product Name: calculator, Estimated Rating: 1.394181819998886\n",
      "RMSE Accuracy: 54.45%\n",
      "MAE Accuracy: 82.11%\n"
     ]
    }
   ],
   "source": [
    "# Define a function to get collaborative filtering recommendations for a user\n",
    "def collaborative_filtering_recommendation(user_id, num_recommendations=5):\n",
    "    \"\"\"\n",
    "    Generate product recommendations for a user based on collaborative filtering.\n",
    "    Parameters:\n",
    "    user_id (int): The ID of the user for whom recommendations are to be generated.\n",
    "    num_recommendations (int, optional): The number of recommendations to generate. Default is 5.\n",
    "    Returns:\n",
    "    list of tuples: A list of tuples where each tuple contains (user_id, product_name, predicted_rating).\n",
    "                    The list is sorted by predicted_rating in descending order, and contains up to num_recommendations items.\n",
    "    \"\"\"\n",
    "    \n",
    "    all_product_names = df['product_name'].unique()\n",
    "    \n",
    "    interacted_product_names = df[(df['user_id'] == user_id) & (df['event_type'] == 'purchase')]['product_name'].values\n",
    "    candidate_product_names = [product_name for product_name in all_product_names if product_name not in interacted_product_names]\n",
    "    \n",
    "    user_ratings = [(user_id, product_name, model.predict(user_id, product_name).est) for product_name in candidate_product_names]\n",
    "\n",
    "    user_ratings.sort(key=lambda x: x[2], reverse=True)\n",
    "    top_n_recommendations = user_ratings[:num_recommendations]\n",
    "\n",
    "    return top_n_recommendations\n",
    "\n",
    "user_id_to_recommend = 1515915625513574486\n",
    "collaborative_recommendations = collaborative_filtering_recommendation(user_id_to_recommend)\n",
    "\n",
    "print(f\"Collaborative Filtering Recommendations for User {user_id_to_recommend}:\")\n",
    "for _, product_name, estimated_rating in collaborative_recommendations:\n",
    "    print(f\"Product Name: {product_name}, Estimated Rating: {estimated_rating}\")\n",
    "\n",
    "# Convert RMSE and MAE to percentages\n",
    "rmse_accuracy = 100 - (rmse * 100)\n",
    "mae_accuracy = 100 - (mae * 100)\n",
    "\n",
    "print(f'RMSE Accuracy: {rmse_accuracy:.2f}%')\n",
    "print(f'MAE Accuracy: {mae_accuracy:.2f}%')"
   ]
  },
  {
   "cell_type": "code",
   "execution_count": 94,
   "metadata": {},
   "outputs": [
    {
     "name": "stdout",
     "output_type": "stream",
     "text": [
      "RMSE: 0.4648\n",
      "MAE:  0.2517\n",
      "Content-Based RMSE: 0.4648\n",
      "Content-Based MAE: 0.2517\n"
     ]
    }
   ],
   "source": [
    "from surprise import NMF\n",
    "\n",
    "content_columns = ['user_id', 'product_name', 'event_type_rating', 'brand', 'price', 'category']\n",
    "\n",
    "reader = Reader(rating_scale=(1, 3))  \n",
    "\n",
    "def create_custom_dataset(data, reader):\n",
    "    \"\"\"\n",
    "    Creates a custom dataset for a recommendation model.\n",
    "    Args:\n",
    "        data (pd.DataFrame): A DataFrame containing user interactions with products. \n",
    "                             It should have columns 'user_id', 'product_name', and 'event_type_rating'.\n",
    "        reader (surprise.Reader): A Reader object from the Surprise library that defines the rating scale.\n",
    "\n",
    "    Returns:\n",
    "        surprise.Dataset: A Surprise Dataset object created from the input DataFrame.\n",
    "    \"\"\"\n",
    "    custom_data = [(row['user_id'], row['product_name'], row['event_type_rating']) for _, row in data.iterrows()]\n",
    "    return Dataset.load_from_df(pd.DataFrame(custom_data, columns=['user', 'item', 'rating']), reader)\n",
    "\n",
    "\n",
    "data = create_custom_dataset(df, reader)\n",
    "\n",
    "trainset, testset = train_test_split(data, test_size=0.2, random_state=42)\n",
    "\n",
    "content_model = NMF()\n",
    "content_model.fit(trainset)\n",
    "\n",
    "content_predictions = content_model.test(testset)\n",
    "\n",
    "content_rmse = accuracy.rmse(content_predictions)\n",
    "content_mae = accuracy.mae(content_predictions)\n",
    "\n",
    "print(f'Content-Based RMSE: {content_rmse:.4f}')\n",
    "print(f'Content-Based MAE: {content_mae:.4f}')\n"
   ]
  },
  {
   "cell_type": "code",
   "execution_count": 95,
   "metadata": {},
   "outputs": [
    {
     "name": "stdout",
     "output_type": "stream",
     "text": [
      "Content-Based Recommendations for User 520088904:\n",
      "Product Name: cooler, Estimated Rating: 1.1571\n",
      "Product Name: printer, Estimated Rating: 1.1571\n",
      "Product Name: saw, Estimated Rating: 1.1571\n",
      "Product Name: router, Estimated Rating: 1.1571\n",
      "Product Name: tv, Estimated Rating: 1.1571\n",
      "Content-Based RMSE Accuracy: 53.52%\n",
      "Content-Based MAE Accuracy: 74.83%\n"
     ]
    }
   ],
   "source": [
    "\n",
    "# Define a function to get content-based recommendations for a user\n",
    "def content_filtering_recommendation(user_id, num_recommendations=5):\n",
    "    \"\"\"\n",
    "    Generate content-based filtering recommendations for a given user.\n",
    "    Parameters:\n",
    "    user_id (int): The ID of the user for whom recommendations are to be generated.\n",
    "    num_recommendations (int, optional): The number of recommendations to generate. Default is 5.\n",
    "    Returns:\n",
    "    list of tuples: A list of tuples where each tuple contains (user_id, product_name, estimated_rating).\n",
    "                    The list is sorted by estimated_rating in descending order and contains the top N recommendations.\n",
    "    \"\"\"\n",
    "    all_product_names = df['product_name'].unique()\n",
    "    \n",
    "    interacted_product_names = df[df['user_id'] == user_id]['product_name'].unique()\n",
    "    candidate_product_names = [p for p in all_product_names if p not in interacted_product_names]\n",
    "\n",
    "    user_ratings = [(user_id, product_name, content_model.predict(user_id, product_name).est) for product_name in candidate_product_names]\n",
    "    user_ratings.sort(key=lambda x: x[2], reverse=True)\n",
    "    top_n_recommendations = user_ratings[:num_recommendations]\n",
    "    return top_n_recommendations\n",
    "\n",
    "user_id_to_recommend = 520088904  \n",
    "content_recommendations = content_filtering_recommendation(user_id_to_recommend)\n",
    "\n",
    "print(f\"Content-Based Recommendations for User {user_id_to_recommend}:\")\n",
    "for _, product_name, estimated_rating in content_recommendations:\n",
    "    print(f\"Product Name: {product_name}, Estimated Rating: {estimated_rating:.4f}\")\n",
    "\n",
    "# Convert RMSE and MAE to percentages\n",
    "content_rmse_accuracy = 100 - (content_rmse * 100)\n",
    "content_mae_accuracy = 100 - (content_mae * 100)\n",
    "\n",
    "print(f'Content-Based RMSE Accuracy: {content_rmse_accuracy:.2f}%')\n",
    "print(f'Content-Based MAE Accuracy: {content_mae_accuracy:.2f}%')\n"
   ]
  },
  {
   "cell_type": "code",
   "execution_count": 96,
   "metadata": {},
   "outputs": [
    {
     "name": "stdout",
     "output_type": "stream",
     "text": [
      "Hybrid Recommendations for User 520088904:\n",
      "Product Name: cooler, Estimated Rating: 1.1571\n",
      "Product Name: printer, Estimated Rating: 1.1571\n",
      "Product Name: saw, Estimated Rating: 1.1571\n",
      "Product Name: router, Estimated Rating: 1.1571\n",
      "Product Name: tv, Estimated Rating: 1.1571\n",
      "Product Name: stapler, Estimated Rating: 1.1176\n",
      "Product Name: scanner, Estimated Rating: 1.1171\n",
      "Product Name: immobilizer, Estimated Rating: 1.1129\n",
      "Product Name: nas, Estimated Rating: 1.1103\n",
      "Product Name: winch, Estimated Rating: 1.1034\n",
      "Hybrid RMSE Accuracy: 54.45%\n",
      "Hybrid MAE Accuracy: 82.11%\n"
     ]
    }
   ],
   "source": [
    "# Combine and prioritize recommendations (example: merge and sort)\n",
    "def hybrid_recommendation(user_id, num_recommendations=5):\n",
    "    \"\"\"\n",
    "    Generate hybrid recommendations for a user by combining collaborative filtering and content-based filtering.\n",
    "\n",
    "    Args:\n",
    "        user_id (int): The ID of the user for whom recommendations are to be generated.\n",
    "        num_recommendations (int, optional): The number of recommendations to generate. Defaults to 5.\n",
    "\n",
    "    Returns:\n",
    "        list: A list of recommended items, sorted by their combined score in descending order. Each item in the list is a tuple containing item information and its score.\n",
    "    \"\"\"\n",
    "    collaborative_recommendations = collaborative_filtering_recommendation(user_id, num_recommendations)\n",
    "    content_recommendations = content_filtering_recommendation(user_id, num_recommendations)\n",
    "\n",
    "    hybrid_recommendations = sorted(collaborative_recommendations + content_recommendations, key=lambda x: x[2], reverse=True)\n",
    "\n",
    "    return hybrid_recommendations\n",
    "\n",
    "user_id_to_recommend = 520088904  \n",
    "recommendations = hybrid_recommendation(user_id_to_recommend)\n",
    "\n",
    "print(f\"Hybrid Recommendations for User {user_id_to_recommend}:\")\n",
    "for _, product_name, estimated_rating in recommendations:\n",
    "    print(f\"Product Name: {product_name}, Estimated Rating: {estimated_rating:.4f}\")\n",
    "\n",
    "# Calculate RMSE and MAE for the hybrid recommendations\n",
    "hybrid_rmse = accuracy.rmse(predictions, verbose=False)\n",
    "hybrid_mae = accuracy.mae(predictions, verbose=False)\n",
    "\n",
    "hybrid_rmse_accuracy = 100 - (hybrid_rmse * 100)\n",
    "hybrid_mae_accuracy = 100 - (hybrid_mae * 100)\n",
    "\n",
    "# Print the evaluation results as percentages\n",
    "print(f'Hybrid RMSE Accuracy: {hybrid_rmse_accuracy:.2f}%')\n",
    "print(f'Hybrid MAE Accuracy: {hybrid_mae_accuracy:.2f}%')"
   ]
  },
  {
   "cell_type": "code",
   "execution_count": 97,
   "metadata": {},
   "outputs": [
    {
     "data": {
      "image/png": "[encoded data removed]",
      "text/plain": [
       "<Figure size 1000x500 with 1 Axes>"
      ]
     },
     "metadata": {},
     "output_type": "display_data"
    }
   ],
   "source": [
    "import matplotlib.pyplot as plt\n",
    "\n",
    "# Create lists to store the accuracy values in percentage\n",
    "models = ['Collaborative Filtering', 'Content-Based Filtering', 'Hybrid Model']\n",
    "rmse_values = [rmse_accuracy, content_rmse_accuracy, hybrid_rmse_accuracy]\n",
    "mae_values = [mae_accuracy, content_mae_accuracy, hybrid_mae_accuracy]\n",
    "\n",
    "# Convert RMSE and MAE values to percentages\n",
    "rmse_values_percentage = [value * 100 for value in rmse_values]\n",
    "mae_values_percentage = [value * 100 for value in mae_values]\n",
    "\n",
    "# Create bar plots for RMSE and MAE in percentage\n",
    "plt.figure(figsize=(10, 5))\n",
    "bar_width = 0.35\n",
    "index = range(len(models))\n",
    "plt.bar(index, rmse_values_percentage, bar_width, color='b', alpha=0.6, label='RMSE')\n",
    "plt.bar([i + bar_width for i in index], mae_values_percentage, bar_width, color='g', alpha=0.6, label='MAE')\n",
    "plt.xlabel('Models')\n",
    "plt.ylabel('Error (%)')\n",
    "plt.title('RMSE and MAE in Percentage for Different Models')\n",
    "plt.xticks([i + bar_width / 2 for i in index], models)\n",
    "plt.legend()\n",
    "plt.show()"
   ]
  },
  {
   "cell_type": "code",
   "execution_count": 98,
   "metadata": {},
   "outputs": [],
   "source": [
    "def recommend_for_new_user(interested_categories, interested_brands, num_recommendations=5):\n",
    "    \"\"\"\n",
    "    Recommend products for a new user based on their interested categories and brands.\n",
    "    Parameters:\n",
    "    interested_categories (list): A list of categories the user is interested in.\n",
    "    interested_brands (list): A list of brands the user is interested in.\n",
    "    num_recommendations (int, optional): The number of product recommendations to return. Default is 5.\n",
    "    Returns:\n",
    "    pandas.DataFrame: A DataFrame containing the recommended products with columns 'product_name', 'brand', 'category', and 'price'.\n",
    "    \"\"\"\n",
    "    candidate_products = df[\n",
    "        (df['category'].isin(interested_categories)) |\n",
    "        (df['brand'].isin(interested_brands))\n",
    "    ]\n",
    "    \n",
    "    recommended_products = candidate_products.sort_values(by='price', ascending=False).head(num_recommendations)\n",
    "    return recommended_products[['product_name', 'brand', 'category', 'price']]\n",
    "\n",
    "\n",
    "def recommend_for_new_item(brand, category, price, num_recommendations=5):\n",
    "    \"\"\"\n",
    "    Recommend users for a new item based on brand, category, and price.\n",
    "\n",
    "    Parameters:\n",
    "    brand (str): The brand of the item.\n",
    "    category (str): The category of the item.\n",
    "    price (float): The price of the item.\n",
    "    num_recommendations (int, optional): The number of recommendations to return. Default is 5.\n",
    "\n",
    "    Returns:\n",
    "    pandas.DataFrame: A DataFrame containing the recommended users with columns 'user_id', 'product_name', and 'price'.\n",
    "    \"\"\"\n",
    "    similar_items = df[\n",
    "        (df['brand'] == brand) & \n",
    "        (df['category'] == category)\n",
    "    ]\n",
    "    similar_items['price_difference'] = abs(similar_items['price'] - price)\n",
    "    recommended_users = similar_items.sort_values(by='price_difference').head(num_recommendations)\n",
    "    return recommended_users[['user_id', 'product_name', 'price']]\n"
   ]
  },
  {
   "cell_type": "code",
   "execution_count": 99,
   "metadata": {},
   "outputs": [
    {
     "name": "stdout",
     "output_type": "stream",
     "text": [
      "Hybrid Recommendations for User 520088904:\n",
      "[(520088904, 'cooler', 1.1571236090108952), (520088904, 'printer', 1.1571236090108952), (520088904, 'saw', 1.1571236090108952), (520088904, 'router', 1.1571236090108952), (520088904, 'tv', 1.1571236090108952), (520088904, 'stapler', 1.117612877858866), (520088904, 'scanner', 1.1170527520956095), (520088904, 'immobilizer', 1.1128714643761508), (520088904, 'nas', 1.1102571507403025), (520088904, 'winch', 1.1034075087776325)]\n"
     ]
    }
   ],
   "source": [
    "user_id_to_recommend = 520088904  \n",
    "recommendations = hybrid_recommendation(user_id_to_recommend, num_recommendations=5)\n",
    "\n",
    "print(f\"Hybrid Recommendations for User {user_id_to_recommend}:\")\n",
    "print(recommendations)"
   ]
  },
  {
   "cell_type": "code",
   "execution_count": 100,
   "metadata": {},
   "outputs": [
    {
     "name": "stdout",
     "output_type": "stream",
     "text": [
      "   user_id      interested_categories  interested_brands\n",
      "0     9001   [computers, electronics]     [zalman, sony]\n",
      "1     9002  [electronics, appliances]   [supermicro, lg]\n",
      "2     9003         [auto, appliances]  [carver, rowenta]\n",
      "  product_name    brand     category   price\n",
      "0   New Cooler   zalman    computers  199.99\n",
      "1       New TV       lg  electronics  499.99\n",
      "2   New Player  kenwood         auto  129.99\n"
     ]
    }
   ],
   "source": [
    "new_users_data = {\n",
    "    'user_id': [9001, 9002, 9003],  \n",
    "    'interested_categories': [['computers', 'electronics'], ['electronics', 'appliances'], ['auto', 'appliances']],  \n",
    "    'interested_brands': [['zalman', 'sony'], ['supermicro', 'lg'], ['carver', 'rowenta']] \n",
    "}\n",
    "new_users = pd.DataFrame(new_users_data)\n",
    "\n",
    "print(new_users)\n",
    "\n",
    "\n",
    "new_items_data = {\n",
    "    'product_name': ['New Cooler', 'New TV', 'New Player'], \n",
    "    'brand': ['zalman', 'lg', 'kenwood'],  \n",
    "    'category': ['computers', 'electronics', 'auto'],  \n",
    "    'price': [199.99, 499.99, 129.99]  \n",
    "}\n",
    "\n",
    "new_items = pd.DataFrame(new_items_data)\n",
    "\n",
    "print(new_items)"
   ]
  },
  {
   "cell_type": "code",
   "execution_count": 101,
   "metadata": {},
   "outputs": [],
   "source": [
    "def hybrid_recommendation(user_id, num_recommendations=5):\n",
    "    \"\"\"\n",
    "    Generate recommendations for a user or item based on their profile and historical data.\n",
    "\n",
    "    Parameters:\n",
    "    user_id (int or str): The ID of the user or the name of the item for which recommendations are to be generated.\n",
    "    num_recommendations (int, optional): The number of recommendations to generate. Defaults to 5.\n",
    "\n",
    "    Returns:\n",
    "    list: A list of recommended items.\n",
    "\n",
    "    The function works as follows:\n",
    "    - If the user exists in the historical data, it uses collaborative filtering to generate recommendations.\n",
    "    - If the user is new, it generates recommendations based on the user's profile (interested categories and brands).\n",
    "    - If the input is a new item (treated as `user_id`), it generates recommendations based on the item's profile (brand, category, and price).\n",
    "    - If none of the above conditions are met, it returns an empty list.\n",
    "    \"\"\"\n",
    "    # Check if the user exists in the historical data\n",
    "    if user_id in df['user_id'].unique():\n",
    "        return collaborative_filtering_recommendation(user_id, num_recommendations)\n",
    "\n",
    "    # Check if the user is new\n",
    "    if user_id in new_users['user_id'].unique():\n",
    "        user_profile = new_users[new_users['user_id'] == user_id].iloc[0]\n",
    "        return recommend_for_new_user(user_profile['interested_categories'], user_profile['interested_brands'], num_recommendations)\n",
    "\n",
    "    # Check if it's a new item (treat `user_id` as product_name in this case)\n",
    "    if user_id in new_items['product_name'].unique():\n",
    "        item_profile = new_items[new_items['product_name'] == user_id].iloc[0]\n",
    "        return recommend_for_new_item(item_profile['brand'], item_profile['category'], item_profile['price'], num_recommendations)\n",
    "    return []\n"
   ]
  },
  {
   "cell_type": "code",
   "execution_count": 102,
   "metadata": {},
   "outputs": [
    {
     "name": "stdout",
     "output_type": "stream",
     "text": [
      "Recommendations for new user 9001:\n",
      "       product_name    brand     category     price\n",
      "51272       monitor       lg    computers  64771.06\n",
      "627562      monitor       lg    computers  64771.06\n",
      "86316       monitor       lg    computers  64771.06\n",
      "418716      monitor       lg    computers  64771.06\n",
      "866584           tv  samsung  electronics  42590.13\n"
     ]
    }
   ],
   "source": [
    "# New user recommendations\n",
    "user_id_to_recommend = 9001\n",
    "recommendations = hybrid_recommendation(user_id_to_recommend)\n",
    "print(f\"Recommendations for new user {user_id_to_recommend}:\")\n",
    "print(recommendations)\n"
   ]
  },
  {
   "cell_type": "code",
   "execution_count": 103,
   "metadata": {},
   "outputs": [],
   "source": [
    "from surprise import dump\n",
    "\n",
    "# Save the model to a file\n",
    "dump.dump('recommendation-service.pkl', algo=model)\n"
   ]
  },
  {
   "cell_type": "code",
   "execution_count": 104,
   "metadata": {},
   "outputs": [
    {
     "name": "stdout",
     "output_type": "stream",
     "text": [
      "Invalid values in the dataset:\n",
      "       event_time event_type  product_id  category_id category_code brand  \\\n",
      "0             NaN        NaN         NaN          NaN           NaN   NaN   \n",
      "1             NaN        NaN         NaN          NaN           NaN   NaN   \n",
      "2             NaN        NaN         NaN          NaN           NaN   NaN   \n",
      "3             NaN        NaN         NaN          NaN           NaN   NaN   \n",
      "4             NaN        NaN         NaN          NaN           NaN   NaN   \n",
      "...           ...        ...         ...          ...           ...   ...   \n",
      "885124        NaN        NaN         NaN          NaN           NaN   NaN   \n",
      "885125        NaN        NaN         NaN          NaN           NaN   NaN   \n",
      "885126        NaN        NaN         NaN          NaN           NaN   NaN   \n",
      "885127        NaN        NaN         NaN          NaN           NaN   NaN   \n",
      "885128        NaN        NaN         NaN          NaN           NaN   NaN   \n",
      "\n",
      "        price  user_id user_session  \n",
      "0         NaN      NaN          NaN  \n",
      "1         NaN      NaN          NaN  \n",
      "2         NaN      NaN          NaN  \n",
      "3         NaN      NaN          NaN  \n",
      "4         NaN      NaN          NaN  \n",
      "...       ...      ...          ...  \n",
      "885124    NaN      NaN          NaN  \n",
      "885125    NaN      NaN          NaN  \n",
      "885126    NaN      NaN          NaN  \n",
      "885127    NaN      NaN          NaN  \n",
      "885128    NaN      NaN          NaN  \n",
      "\n",
      "[885129 rows x 9 columns]\n"
     ]
    }
   ],
   "source": [
    "import pandas as pd\n",
    "import numpy as np\n",
    "\n",
    "# Path to your dataset\n",
    "file_path = \"events.csv\"\n",
    "\n",
    "# Read the dataset\n",
    "df = pd.read_csv(file_path)\n",
    "\n",
    "# Check for problematic values\n",
    "invalid_values = df[(df == np.inf) | (df == -np.inf) | (df.isna())]\n",
    "print(\"Invalid values in the dataset:\")\n",
    "print(invalid_values)\n"
   ]
  },
  {
   "cell_type": "code",
   "execution_count": 105,
   "metadata": {},
   "outputs": [
    {
     "name": "stdout",
     "output_type": "stream",
     "text": [
      "                event_time event_type  product_id          category_id  \\\n",
      "0  2020-09-24 11:57:06 UTC       view     1996170  2144415922528452715   \n",
      "1  2020-09-24 11:57:26 UTC       view      139905  2144415926932472027   \n",
      "2  2020-09-24 11:57:27 UTC       view      215454  2144415927158964449   \n",
      "3  2020-09-24 11:57:33 UTC       view      635807  2144415923107266682   \n",
      "4  2020-09-24 11:57:36 UTC       view     3658723  2144415921169498184   \n",
      "\n",
      "                   category_code        brand   price              user_id  \\\n",
      "0          electronics.telephone          NaN   31.90  1515915625519388267   \n",
      "1    computers.components.cooler       zalman   17.16  1515915625519380411   \n",
      "2                            NaN          NaN    9.81  1515915625513238515   \n",
      "3  computers.peripherals.printer       pantum  113.81  1515915625519014356   \n",
      "4                            NaN  cameronsino   15.87  1515915625510743344   \n",
      "\n",
      "  user_session  \n",
      "0   LJuJVLEjPT  \n",
      "1   tdicluNnRY  \n",
      "2   4TMArHtXQy  \n",
      "3   aGFYrNgC08  \n",
      "4   aa4mmk0kwQ  \n",
      "<class 'pandas.core.frame.DataFrame'>\n",
      "RangeIndex: 885129 entries, 0 to 885128\n",
      "Data columns (total 9 columns):\n",
      " #   Column         Non-Null Count   Dtype  \n",
      "---  ------         --------------   -----  \n",
      " 0   event_time     885129 non-null  object \n",
      " 1   event_type     885129 non-null  object \n",
      " 2   product_id     885129 non-null  int64  \n",
      " 3   category_id    885129 non-null  int64  \n",
      " 4   category_code  648910 non-null  object \n",
      " 5   brand          672765 non-null  object \n",
      " 6   price          885129 non-null  float64\n",
      " 7   user_id        885129 non-null  int64  \n",
      " 8   user_session   884964 non-null  object \n",
      "dtypes: float64(1), int64(3), object(5)\n",
      "memory usage: 60.8+ MB\n",
      "None\n"
     ]
    }
   ],
   "source": [
    "import pandas as pd\n",
    "\n",
    "file_path = \"events.csv\"\n",
    "\n",
    "# Read the file and print the first few lines\n",
    "df = pd.read_csv(file_path)\n",
    "print(df.head())\n",
    "print(df.info())\n"
   ]
  },
  {
   "cell_type": "code",
   "execution_count": 106,
   "metadata": {},
   "outputs": [
    {
     "name": "stdout",
     "output_type": "stream",
     "text": [
      "               user_id                 event_time event_type  product_id  \\\n",
      "0  1515915625519380411  2020-09-24 11:57:26+00:00       view      139905   \n",
      "1  1515915625519014356  2020-09-24 11:57:33+00:00       view      635807   \n",
      "2  1515915625519388062  2020-09-24 11:57:59+00:00       view      664325   \n",
      "3  1515915625519388882  2020-09-24 11:58:24+00:00       view      716611   \n",
      "4  1515915625519388929  2020-09-24 11:58:31+00:00       view      716611   \n",
      "\n",
      "           category_id   brand   price      category product_name  \n",
      "0  2144415926932472027  zalman   17.16     computers       cooler  \n",
      "1  2144415923107266682  pantum  113.81     computers      printer  \n",
      "2  2144415951611757447  carver   52.33  construction          saw  \n",
      "3  2144415923694469257  d-link   53.14     computers       router  \n",
      "4  2144415923694469257  d-link   53.14     computers       router  \n",
      "<class 'pandas.core.frame.DataFrame'>\n",
      "RangeIndex: 515820 entries, 0 to 515819\n",
      "Data columns (total 9 columns):\n",
      " #   Column        Non-Null Count   Dtype  \n",
      "---  ------        --------------   -----  \n",
      " 0   user_id       515820 non-null  int64  \n",
      " 1   event_time    515820 non-null  object \n",
      " 2   event_type    515820 non-null  object \n",
      " 3   product_id    515820 non-null  int64  \n",
      " 4   category_id   515820 non-null  int64  \n",
      " 5   brand         515820 non-null  object \n",
      " 6   price         515820 non-null  float64\n",
      " 7   category      515820 non-null  object \n",
      " 8   product_name  515820 non-null  object \n",
      "dtypes: float64(1), int64(3), object(5)\n",
      "memory usage: 35.4+ MB\n",
      "None\n"
     ]
    }
   ],
   "source": [
    "import pandas as pd\n",
    "\n",
    "file_path = \"processed_data.csv\"\n",
    "\n",
    "# Read the file and print the first few lines\n",
    "df = pd.read_csv(file_path)\n",
    "print(df.head())\n",
    "print(df.info())\n"
   ]
  }
 ],
 "metadata": {
  "kernelspec": {
   "display_name": "Python 3",
   "language": "python",
   "name": "python3"
  },
  "language_info": {
   "codemirror_mode": {
    "name": "ipython",
    "version": 3
   },
   "file_extension": ".py",
   "mimetype": "text/x-python",
   "name": "python",
   "nbconvert_exporter": "python",
   "pygments_lexer": "ipython3",
   "version": "3.10.0"
  }
 },
 "nbformat": 4,
 "nbformat_minor": 2
}
